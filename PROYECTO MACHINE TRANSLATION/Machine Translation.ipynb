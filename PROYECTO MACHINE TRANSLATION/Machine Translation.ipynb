{
 "cells": [
  {
   "cell_type": "code",
   "execution_count": 3,
   "id": "6266a0e5",
   "metadata": {},
   "outputs": [
    {
     "name": "stdout",
     "output_type": "stream",
     "text": [
      "Loaded model from disk\n"
     ]
    }
   ],
   "source": [
    "# load json and create model\n",
    "from keras.models import model_from_json\n",
    "json_file = open('Models/model1.json', 'r')\n",
    "loaded_model_json = json_file.read()\n",
    "json_file.close()\n",
    "loaded_model = model_from_json(loaded_model_json)\n",
    "# load weights into new model\n",
    "loaded_model.load_weights(\"Models/model1.h5\")\n",
    "print(\"Loaded model from disk\")\n",
    "#loaded_model.compile(loss='binary_crossentropy', optimizer='rmsprop', metrics=['accuracy'])\n",
    "#score = loaded_model.evaluate(x_train, Y, verbose=0)\n",
    "#print(\"%s: %.2f%%\" % (loaded_model.metrics_names[1], score[1]*100))"
   ]
  },
  {
   "cell_type": "markdown",
   "id": "49c98bbf",
   "metadata": {},
   "source": [
    "# 7 min 20 epochs \n",
    "# recordar NO usar SPARSE con ONE-HOT, usar multiplos de 2\n",
    "# CAPAS: PROBAR CON LOS MODELOS DEL GITHUB Y OTROS SI QUEREMOS\n",
    "# Tiara 1 y 2\n",
    "# \n",
    "# TEXT REPRESENTATION(INPUT): \n",
    "     - BAG OF WORDS - Tiara\n",
    "     - BIGRAMAS-N-GRAMAS - Cami\n",
    "     - TF-IDF - Caro\n",
    "     -X TRAINED EMBEDDING\n",
    "\n",
    "# PARAMETROS:\n",
    "    - learning rate\n",
    "    - Units - pesos en capas\n",
    "    - batch size 32 64 \n",
    "    - activation functions en capas: relu, etc\n",
    "    - embedding dimension\n",
    "    \n",
    "\n",
    "# CANTIDAD DE DATOS A USAR: 10000\n",
    "# one hot - probar 1 modelo y comparar con el otro\n",
    "# para guardar archivos:\n",
    "     - imagenes: \n",
    "          - loss vs epochs: tr_model_1_le.png\n",
    "          - modelos: tr_model_1_m.png\n",
    "     - modelos: tr_model_1.h5\n",
    "Caro\n",
    "-1, 4\n",
    "Cami\n",
    "-2, 6\n",
    "Tiara\n",
    "-3, 5"
   ]
  },
  {
   "cell_type": "code",
   "execution_count": 4,
   "id": "0d0eb0e9",
   "metadata": {},
   "outputs": [
    {
     "name": "stdout",
     "output_type": "stream",
     "text": [
      "('You must install pydot (`pip install pydot`) and install graphviz (see instructions at https://graphviz.gitlab.io/download/) ', 'for plot_model/model_to_dot to work.')\n"
     ]
    }
   ],
   "source": [
    "from keras.utils.vis_utils import plot_model\n",
    "plot_model(loaded_model, to_file='Models/model1.png', show_shapes=True)"
   ]
  }
 ],
 "metadata": {
  "kernelspec": {
   "display_name": "Python 3 (ipykernel)",
   "language": "python",
   "name": "python3"
  },
  "language_info": {
   "codemirror_mode": {
    "name": "ipython",
    "version": 3
   },
   "file_extension": ".py",
   "mimetype": "text/x-python",
   "name": "python",
   "nbconvert_exporter": "python",
   "pygments_lexer": "ipython3",
   "version": "3.9.7"
  }
 },
 "nbformat": 4,
 "nbformat_minor": 5
}
